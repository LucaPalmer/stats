{
 "cells": [
  {
   "cell_type": "code",
   "execution_count": 1,
   "id": "d1114c2d",
   "metadata": {},
   "outputs": [],
   "source": [
    "import numpy as np\n",
    "import pandas as pd\n",
    "import scipy.stats as stats\n",
    "import matplotlib.pyplot as plt"
   ]
  },
  {
   "cell_type": "code",
   "execution_count": 2,
   "id": "4dcff729",
   "metadata": {},
   "outputs": [],
   "source": [
    "#This x does nothing apparently\n",
    "X = 1\n",
    "\n",
    "MU = np.array([3, 6])\n",
    "\n",
    "#Morning and Afternoon Wind Speed in Australia\n",
    "\n",
    "morning_wind = [4, 19, 11, 20, 6, 7, 17, 4, 11, 17, 9, 17, 19, 6, 4, 9, 0, 13, 19]\n",
    "\n",
    "afternoon_wind  = [22, 26, 9, 24, 17, 28, 6, 30, 9, 6, 9, 22, 20, 13, 19, 13, 26, 30,\n",
    "30]"
   ]
  },
  {
   "cell_type": "code",
   "execution_count": 3,
   "id": "34c6417c",
   "metadata": {},
   "outputs": [
    {
     "name": "stdout",
     "output_type": "stream",
     "text": [
      "\n",
      "Array 1:  [4, 19, 11, 20, 6, 7, 17, 4, 11, 17, 9, 17, 19, 6, 4, 9, 0, 13, 19] \n",
      "\n",
      "Array 2:  [22, 26, 9, 24, 17, 28, 6, 30, 9, 6, 9, 22, 20, 13, 19, 13, 26, 30, 30] \n",
      "\n",
      "Covariance Matrix of Row Vectors =  [[40.3625731  -3.20467836]\n",
      " [-3.20467836 72.21052632]]\n",
      "\n",
      "Covariance Matrix Dimension:  2\n",
      "\n",
      "(x - m^T) * E^-1 * (x - m) =  [0.46895454] \n",
      "\n",
      "Matrix (Scalar) Dimension of Result:  1\n",
      "------\n",
      "\n",
      "Check if Covariance Matrix is symmetric, cov should be equal to its transpose:  [[ True  True]\n",
      " [ True  True]] \n",
      "\n",
      "Eigenvalues: \n",
      " [40.04330513 72.52979429] \n",
      "\n",
      "Eigenvectors: \n",
      " [[-0.99507401 -0.09913483]\n",
      " [-0.09913483  0.99507401]] \n",
      "\n",
      "Diagonal Matrix: \n",
      " [[40.04330513  0.        ]\n",
      " [ 0.         72.52979429]]\n",
      "P = \n",
      " [[-0.99507401 -0.09913483]\n",
      " [-0.09913483  0.99507401]] \n",
      "\n",
      "D = \n",
      " [[40.04330513  0.        ]\n",
      " [ 0.         72.52979429]] \n",
      "\n",
      "P x D x P^-1 = \n",
      " [[40.3625731  -3.20467836]\n",
      " [-3.20467836 72.21052632]] \n",
      "\n",
      "Does P x D x P^-1 = E?\n",
      "\n",
      "Evaluating E with PDP^-1: \n",
      " [[ True  True]\n",
      " [ True  True]]\n"
     ]
    }
   ],
   "source": [
    "print(\"\\nArray 1: \", morning_wind, \"\\n\")\n",
    "print(\"Array 2: \", afternoon_wind, \"\\n\")\n",
    "\n",
    "#Retrieve covariance and 1x1 Scalar\n",
    "\n",
    "cov = np.cov(morning_wind, afternoon_wind)\n",
    "\n",
    "print(\"Covariance Matrix of Row Vectors = \", cov) # show covariance\n",
    "\n",
    "print(\"\\nCovariance Matrix Dimension: \", cov.ndim) \n",
    "\n",
    "S = np.array([(X - MU.T)@np.linalg.inv(cov)@(X - MU)])\n",
    "\n",
    "\n",
    "print(\"\\n(x - m^T) * E^-1 * (x - m) = \", S, '\\n')\n",
    "print('Matrix (Scalar) Dimension of Result: ', S.ndim)\n",
    "\n",
    "\n",
    "#2-D Contour plots\n",
    "\n",
    "#------------\n",
    "#Diagonalise the covariance matrix:\n",
    "\n",
    "#Check if Matrix is Symmetric\n",
    "print('------\\n\\nCheck if Covariance Matrix is symmetric, cov should be equal to its transpose: '\n",
    "      , cov == cov.T, '\\n')\n",
    "\n",
    "#Get Eigenvectors and Values\n",
    "V, P = np.linalg.eigh(cov)\n",
    "print('Eigenvalues: \\n', V, '\\n')\n",
    "print('Eigenvectors: \\n', P, '\\n')\n",
    "\n",
    "\n",
    "# Convert Eigenvectors to Diagonal Matrix\n",
    "D = np.diag(V)\n",
    "print('Diagonal Matrix: \\n', D)\n",
    "\n",
    "print('P = \\n', P, '\\n')\n",
    "print('D = \\n', D, '\\n')\n",
    "print('P x D x P^-1 = \\n', P@D@np.linalg.inv(P), '\\n')\n",
    "\n",
    "print('Does P x D x P^-1 = E?\\n')\n",
    "print('Evaluating E with PDP^-1: \\n', np.isclose(cov, P@D@np.linalg.inv(P)))"
   ]
  },
  {
   "cell_type": "code",
   "execution_count": 4,
   "id": "8763f719",
   "metadata": {},
   "outputs": [],
   "source": [
    "x_variables = np.array([0, 3, 6]) #This controls the length of the x-axis (should be used for independent variables)\n",
    "y_variables = np.array([1, 4, 5]) #This controls the length of the y-axis (should be used for dependent varibles)"
   ]
  },
  {
   "cell_type": "code",
   "execution_count": 5,
   "id": "4f87f2f6",
   "metadata": {},
   "outputs": [
    {
     "data": {
      "image/png": "[encoded data removed]",
      "text/plain": [
       "<Figure size 432x288 with 1 Axes>"
      ]
     },
     "metadata": {
      "needs_background": "light"
     },
     "output_type": "display_data"
    }
   ],
   "source": [
    "#values = \n",
    "\n",
    "x = np.arange(-1 ,500, 0.05)\n",
    "\n",
    "y = np.arange(-1 ,500, 0.05)\n",
    "\n",
    "fig1 = plt.figure()\n",
    "\n",
    "ax = fig1.add_subplot(111)\n",
    "\n",
    "ax.plot(stats.multivariate_normal.pdf(morning_wind, mean = 1, cov = 1))\n",
    "\n",
    "#ax.plot(x, y)\n",
    "x, y = np.meshgrid(x, y)\n",
    "z = x**2 + y**2 \n",
    "\n",
    "ax.contourf(x, y, z)\n",
    "\n",
    "plt.show()\n",
    "\n",
    "#ax.contour(x)"
   ]
  },
  {
   "cell_type": "code",
   "execution_count": null,
   "id": "4d4fc5e1",
   "metadata": {},
   "outputs": [],
   "source": []
  }
 ],
 "metadata": {
  "kernelspec": {
   "display_name": "Python 3",
   "language": "python",
   "name": "python3"
  },
  "language_info": {
   "codemirror_mode": {
    "name": "ipython",
    "version": 3
   },
   "file_extension": ".py",
   "mimetype": "text/x-python",
   "name": "python",
   "nbconvert_exporter": "python",
   "pygments_lexer": "ipython3",
   "version": "3.9.2"
  }
 },
 "nbformat": 4,
 "nbformat_minor": 5
}
