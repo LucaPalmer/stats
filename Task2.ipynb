{
 "cells": [
  {
   "cell_type": "code",
   "execution_count": 1,
   "id": "4e06536d",
   "metadata": {},
   "outputs": [],
   "source": [
    "#This is the Task 2 example (fitted).\n",
    "\n",
    "import numpy as np\n",
    "import matplotlib.pyplot as plt\n",
    "import seaborn as sns\n",
    "import math"
   ]
  },
  {
   "cell_type": "code",
   "execution_count": 2,
   "id": "09565de2",
   "metadata": {},
   "outputs": [],
   "source": [
    "matX = np.array([[1, 1, 1], [0, 3, 6]])\n",
    "matX =  matX.T #reshape this another way\n",
    "\n",
    "matXT = matX.T\n",
    "\n",
    "vecY = np.array([1, 4, 5])\n",
    "\n",
    "matX_XT = matXT @ matX\n",
    "\n",
    "matX_T_inv = np.linalg.inv(matX_XT) #The decimals in this are correct\n",
    "\n",
    "matXT_vecY = matXT @ vecY\n",
    "\n",
    "B = matX_T_inv @ matXT @ vecY #These decimals are correct\n",
    "\n",
    "fitted_vals = matX @ B #The fitted predicted values, aka the slope"
   ]
  },
  {
   "cell_type": "code",
   "execution_count": 3,
   "id": "e764f71b",
   "metadata": {},
   "outputs": [],
   "source": [
    "x_variables = np.array([0, 3, 6]) \n",
    "y_variables = np.array([1, 4, 5])"
   ]
  },
  {
   "cell_type": "code",
   "execution_count": 4,
   "id": "4e479c27",
   "metadata": {},
   "outputs": [],
   "source": [
    "b = 1 #slope\n",
    "a = np.mean(y_variables) - b * np.mean(x_variables) #intercept"
   ]
  },
  {
   "cell_type": "code",
   "execution_count": 6,
   "id": "91106064",
   "metadata": {},
   "outputs": [
    {
     "data": {
      "image/png": "[encoded data removed]",
      "text/plain": [
       "<Figure size 432x288 with 1 Axes>"
      ]
     },
     "metadata": {
      "needs_background": "light"
     },
     "output_type": "display_data"
    }
   ],
   "source": [
    "ax = plt.subplot()\n",
    "ax.plot(x_variables, fitted_vals)\n",
    "ax.scatter(x_variables, y_variables)\n",
    "ax.grid()\n",
    "#ax.scatter(x_variables, residuals)\n",
    "plt.show()"
   ]
  },
  {
   "cell_type": "code",
   "execution_count": 14,
   "id": "eee49e02",
   "metadata": {},
   "outputs": [
    {
     "name": "stderr",
     "output_type": "stream",
     "text": [
      "/home/luca/miniconda3/envs/Jupyterlab/lib/python3.9/site-packages/seaborn/_decorators.py:36: FutureWarning: Pass the following variables as keyword args: x, y. From version 0.12, the only valid positional argument will be `data`, and passing other arguments without an explicit keyword will result in an error or misinterpretation.\n",
      "  warnings.warn(\n"
     ]
    },
    {
     "data": {
      "text/plain": [
       "<AxesSubplot:>"
      ]
     },
     "execution_count": 14,
     "metadata": {},
     "output_type": "execute_result"
    },
    {
     "data": {
      "image/png": "[encoded data removed]",
      "text/plain": [
       "<Figure size 432x288 with 1 Axes>"
      ]
     },
     "metadata": {
      "needs_background": "light"
     },
     "output_type": "display_data"
    }
   ],
   "source": [
    "sns.residplot(residuals, fitted_vals)"
   ]
  },
  {
   "cell_type": "code",
   "execution_count": 5,
   "id": "c3a84612",
   "metadata": {},
   "outputs": [
    {
     "data": {
      "text/plain": [
       "2.666666666666668"
      ]
     },
     "execution_count": 5,
     "metadata": {},
     "output_type": "execute_result"
    }
   ],
   "source": [
    "residuals = y_variables - (a + b * x_variables)\n",
    "SSR = sum(residuals ** 2)\n",
    "SSR"
   ]
  }
 ],
 "metadata": {
  "kernelspec": {
   "display_name": "Python 3",
   "language": "python",
   "name": "python3"
  },
  "language_info": {
   "codemirror_mode": {
    "name": "ipython",
    "version": 3
   },
   "file_extension": ".py",
   "mimetype": "text/x-python",
   "name": "python",
   "nbconvert_exporter": "python",
   "pygments_lexer": "ipython3",
   "version": "3.9.2"
  }
 },
 "nbformat": 4,
 "nbformat_minor": 5
}
